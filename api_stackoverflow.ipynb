{
 "cells": [
  {
   "cell_type": "code",
   "execution_count": 1,
   "metadata": {},
   "outputs": [
    {
     "data": {
      "text/plain": [
       "\"from stackapi import StackAPI\\nSITE = StackAPI('stackoverflow')\\nquestions = SITE.fetch('questions', fromdate=1457136000, todate=1457222400,min=1, tagged='python',\\n                        sort='votes', pagesize=1)\\n\\nprint(questions)\""
      ]
     },
     "execution_count": 1,
     "metadata": {},
     "output_type": "execute_result"
    }
   ],
   "source": [
    "\"\"\"from stackapi import StackAPI\n",
    "SITE = StackAPI('stackoverflow')\n",
    "questions = SITE.fetch('questions', fromdate=1457136000, todate=1457222400,min=1, tagged='python',\n",
    "                        sort='votes', pagesize=1)\n",
    "\n",
    "print(questions)\"\"\""
   ]
  },
  {
   "cell_type": "code",
   "execution_count": 2,
   "metadata": {},
   "outputs": [],
   "source": [
    "import requests\n",
    "import json\n",
    "from datetime import datetime, timedelta\n",
    "import pandas as pd"
   ]
  },
  {
   "cell_type": "code",
   "execution_count": 3,
   "metadata": {},
   "outputs": [
    {
     "name": "stdout",
     "output_type": "stream",
     "text": [
      "{'items': [{'tags': ['python', 'binance', 'binance-api-client', 'python-binance'], 'owner': {'reputation': 624, 'user_id': 9766795, 'user_type': 'registered', 'profile_image': 'https://www.gravatar.com/avatar/c8ba4a662e52c395c4389e13a0d42dc9?s=256&d=identicon&r=PG&f=y&so-version=2', 'display_name': 'David', 'link': 'https://stackoverflow.com/users/9766795/david'}, 'is_answered': False, 'view_count': 17, 'answer_count': 1, 'score': 0, 'last_activity_date': 1696355625, 'creation_date': 1696284604, 'last_edit_date': 1696355625, 'question_id': 77218713, 'content_license': 'CC BY-SA 4.0', 'link': 'https://stackoverflow.com/questions/77218713/binance-cancel-order-request-sends-back-unknown-unorder-received', 'title': 'binance cancel order request sends back &#39;unknown unorder received&#39;'}, {'tags': ['python', 'python-3.x', 'regex'], 'owner': {'reputation': 1, 'user_id': 22674819, 'user_type': 'registered', 'profile_image': 'https://www.gravatar.com/avatar/eccdf2f99365d270542e568a71f71354?s=256&d=identicon&r=PG&f=y&so-version=2', 'display_name': 'Sam2Khat', 'link': 'https://stackoverflow.com/users/22674819/sam2khat'}, 'is_answered': False, 'view_count': 48, 'closed_date': 1696317035, 'answer_count': 0, 'score': -1, 'last_activity_date': 1696355519, 'creation_date': 1696316897, 'last_edit_date': 1696355519, 'question_id': 77220282, 'link': 'https://stackoverflow.com/questions/77220282/what-is-the-name-of-the-python-library-that-matches-patterns-using-f-strings', 'closed_reason': 'Not suitable for this site', 'title': 'What is the name of the Python library that matches patterns using f-strings?'}, {'tags': ['python', 'c', 'multithreading', 'segmentation-fault', 'shared-libraries'], 'owner': {'reputation': 1046, 'user_id': 2205930, 'user_type': 'registered', 'accept_rate': 63, 'profile_image': 'https://www.gravatar.com/avatar/4659ab6b4bcb3fbf3c0c671571d728bf?s=256&d=identicon&r=PG', 'display_name': 'user2205930', 'link': 'https://stackoverflow.com/users/2205930/user2205930'}, 'is_answered': False, 'view_count': 5, 'answer_count': 0, 'score': 0, 'last_activity_date': 1696355509, 'creation_date': 1696355509, 'question_id': 77224505, 'content_license': 'CC BY-SA 4.0', 'link': 'https://stackoverflow.com/questions/77224505/python3-c-type-segfault-from-multithreaded-c-shared-library', 'title': 'Python3: c-type segfault from multithreaded C shared library'}, {'tags': ['python', 'python-3.x'], 'owner': {'reputation': 654, 'user_id': 10098481, 'user_type': 'registered', 'profile_image': 'https://i.stack.imgur.com/yo1aa.png?s=256&g=1', 'display_name': 'Wychh', 'link': 'https://stackoverflow.com/users/10098481/wychh'}, 'is_answered': True, 'view_count': 16, 'answer_count': 1, 'score': -1, 'last_activity_date': 1696355497, 'creation_date': 1696355429, 'question_id': 77224498, 'content_license': 'CC BY-SA 4.0', 'link': 'https://stackoverflow.com/questions/77224498/convert-string-to-float-when-the-exponent-is-also-a-float', 'title': 'Convert string to float when the exponent is also a float'}, {'tags': ['python', 'r', 'arima'], 'owner': {'reputation': 1, 'user_id': 22606542, 'user_type': 'registered', 'profile_image': 'https://graph.facebook.com/10225573677553221/picture?type=large', 'display_name': 'Cường L&#234;', 'link': 'https://stackoverflow.com/users/22606542/c%c6%b0%e1%bb%9dng-l%c3%aa'}, 'is_answered': False, 'view_count': 39, 'answer_count': 1, 'score': -3, 'last_activity_date': 1696355405, 'creation_date': 1695291493, 'last_edit_date': 1696355405, 'question_id': 77149327, 'content_license': 'CC BY-SA 4.0', 'link': 'https://stackoverflow.com/questions/77149327/why-does-arima-analysis-in-r-and-python-get-different-results-with-same-data', 'title': 'Why does Arima analysis in R and Python get different results with same data?'}, {'tags': ['python', 'pandas', 'dataframe', 'list', 'dictionary'], 'owner': {'reputation': 71, 'user_id': 10902507, 'user_type': 'registered', 'profile_image': 'https://lh4.googleusercontent.com/-lMfZrSt2Ab8/AAAAAAAAAAI/AAAAAAAAADc/v9DMtqK91uQ/photo.jpg?sz=256', 'display_name': 'Niltzable', 'link': 'https://stackoverflow.com/users/10902507/niltzable'}, 'is_answered': False, 'view_count': 9, 'answer_count': 0, 'score': 0, 'last_activity_date': 1696355386, 'creation_date': 1696355351, 'last_edit_date': 1696355386, 'question_id': 77224487, 'content_license': 'CC BY-SA 4.0', 'link': 'https://stackoverflow.com/questions/77224487/transform-dataframe-to-nested-dicts', 'title': 'Transform DataFrame to nested dicts'}, {'tags': ['python', 'regex'], 'owner': {'reputation': 354, 'user_id': 11737958, 'user_type': 'registered', 'profile_image': 'https://www.gravatar.com/avatar/1b35fec4b6f8be131cf81c200400adf6?s=256&d=identicon&r=PG&f=y&so-version=2', 'display_name': 'Kishan', 'link': 'https://stackoverflow.com/users/11737958/kishan'}, 'is_answered': True, 'view_count': 70, 'closed_date': 1696315197, 'accepted_answer_id': 77219446, 'answer_count': 4, 'score': 0, 'last_activity_date': 1696355374, 'creation_date': 1696293270, 'last_edit_date': 1696355374, 'question_id': 77219089, 'link': 'https://stackoverflow.com/questions/77219089/filter-pattern-with-float-values-with-python-regex', 'closed_reason': 'Duplicate', 'title': 'Filter pattern with float values with Python regex'}, {'tags': ['python', 'selenium-webdriver', 'automation', 'google-drive-api', 'google-ads-api'], 'owner': {'reputation': 1, 'user_id': 11952977, 'user_type': 'registered', 'profile_image': 'https://lh6.googleusercontent.com/-3EAjkcUrpKE/AAAAAAAAAAI/AAAAAAAAGa8/_9HL2KnbwFk/photo.jpg?sz=256', 'display_name': 'Auren Lopez', 'link': 'https://stackoverflow.com/users/11952977/auren-lopez'}, 'is_answered': False, 'view_count': 24, 'closed_date': 1695962737, 'answer_count': 0, 'score': -4, 'last_activity_date': 1696355374, 'creation_date': 1695957278, 'last_edit_date': 1696355374, 'question_id': 77199265, 'link': 'https://stackoverflow.com/questions/77199265/automate-google-ads-billing-documents-transfer-to-google-drive-need-suggestion', 'closed_reason': 'Not suitable for this site', 'title': 'Automate Google Ads Billing Documents Transfer to Google Drive. Need Suggestion&#39;s'}, {'tags': ['python', 'excel', 'csv', 'xbrl'], 'owner': {'reputation': 105, 'user_id': 5725267, 'user_type': 'registered', 'profile_image': 'https://www.gravatar.com/avatar/a1665c7a1289755818db1315a460ea0b?s=256&d=identicon&r=PG&f=y&so-version=2', 'display_name': 'johnsmith_228', 'link': 'https://stackoverflow.com/users/5725267/johnsmith-228'}, 'is_answered': False, 'view_count': 11, 'answer_count': 0, 'score': 0, 'last_activity_date': 1696355288, 'creation_date': 1696355288, 'question_id': 77224485, 'content_license': 'CC BY-SA 4.0', 'link': 'https://stackoverflow.com/questions/77224485/python-merge-multiple-custom-objects-for-export-to-single-file', 'title': 'Python merge multiple custom objects for export to single file'}, {'tags': ['python', 'pandas'], 'owner': {'reputation': 445, 'user_id': 7563690, 'user_type': 'registered', 'accept_rate': 30, 'profile_image': 'https://www.gravatar.com/avatar/2751374b4635527f621bc89bc032b0ca?s=256&d=identicon&r=PG&f=y&so-version=2', 'display_name': 'Luka Vlaskalic', 'link': 'https://stackoverflow.com/users/7563690/luka-vlaskalic'}, 'is_answered': False, 'view_count': 16, 'answer_count': 0, 'score': 0, 'last_activity_date': 1696355158, 'creation_date': 1696355158, 'question_id': 77224476, 'content_license': 'CC BY-SA 4.0', 'link': 'https://stackoverflow.com/questions/77224476/why-is-my-python-script-is-not-dealing-with-indexes-properly-when-i-am-trying-to', 'title': 'Why is my Python script is not dealing with indexes properly when I am trying to reformat the data'}], 'has_more': True, 'quota_max': 300, 'quota_remaining': 263}\n",
      "4\n",
      "10\n"
     ]
    }
   ],
   "source": [
    "\n",
    "\n",
    "# Définissez la date actuelle et la date du mois dernier\n",
    "date_actuelle = datetime.now()\n",
    "date_mois_dernier = date_actuelle - timedelta(days=30)  # Vous pouvez ajuster le nombre de jours selon vos besoins\n",
    "\n",
    "# Convertissez les dates en timestamps Unix\n",
    "timestamp_actuel = int(date_actuelle.timestamp())\n",
    "timestamp_mois_dernier = int(date_mois_dernier.timestamp())\n",
    "\n",
    "# Définissez le tag que vous souhaitez rechercher\n",
    "tag = 'python'\n",
    "\n",
    "# Construisez l'URL avec les paramètres de date et de tag\n",
    "url = f'https://api.stackexchange.com/2.2/questions?order=desc&sort=activity&site=stackoverflow&tagged={tag}&fromdate={timestamp_mois_dernier}&todate={timestamp_actuel}&pagesize=10'\n",
    "\n",
    "# Effectuez la requête à l'API\n",
    "response = requests.get(url)\n",
    "data = response.json()\n",
    "\n",
    "\"\"\"\n",
    "# Parcourez les données et imprimez les titres et les liens\n",
    "for item in data['items']:\n",
    "    print(item['title'], item['link'])\"\"\"\n",
    "\n",
    "print(data)\n",
    "print(len(data))\n",
    "print(len(data['items']))\n",
    "\n"
   ]
  },
  {
   "cell_type": "code",
   "execution_count": 4,
   "metadata": {},
   "outputs": [],
   "source": [
    "# Créez un DataFrame à partir des données\n",
    "questions_df = pd.DataFrame(data['items'])\n",
    "\n",
    "# Sélectionnez uniquement les colonnes 'question_id', 'title', et 'tags'\n",
    "questions_df = questions_df[['question_id', 'title', 'tags']]\n",
    "\n",
    "# Renommez les colonnes pour correspondre à vos exigences\n",
    "questions_df.rename(columns={'question_id': 'Question ID', 'title': 'Question', 'tags': 'Tags'}, inplace=True)"
   ]
  },
  {
   "cell_type": "code",
   "execution_count": 5,
   "metadata": {},
   "outputs": [
    {
     "data": {
      "text/html": [
       "<div>\n",
       "<style scoped>\n",
       "    .dataframe tbody tr th:only-of-type {\n",
       "        vertical-align: middle;\n",
       "    }\n",
       "\n",
       "    .dataframe tbody tr th {\n",
       "        vertical-align: top;\n",
       "    }\n",
       "\n",
       "    .dataframe thead th {\n",
       "        text-align: right;\n",
       "    }\n",
       "</style>\n",
       "<table border=\"1\" class=\"dataframe\">\n",
       "  <thead>\n",
       "    <tr style=\"text-align: right;\">\n",
       "      <th></th>\n",
       "      <th>Question ID</th>\n",
       "      <th>Question</th>\n",
       "      <th>Tags</th>\n",
       "    </tr>\n",
       "  </thead>\n",
       "  <tbody>\n",
       "    <tr>\n",
       "      <th>0</th>\n",
       "      <td>77218713</td>\n",
       "      <td>binance cancel order request sends back &amp;#39;u...</td>\n",
       "      <td>[python, binance, binance-api-client, python-b...</td>\n",
       "    </tr>\n",
       "    <tr>\n",
       "      <th>1</th>\n",
       "      <td>77220282</td>\n",
       "      <td>What is the name of the Python library that ma...</td>\n",
       "      <td>[python, python-3.x, regex]</td>\n",
       "    </tr>\n",
       "    <tr>\n",
       "      <th>2</th>\n",
       "      <td>77224505</td>\n",
       "      <td>Python3: c-type segfault from multithreaded C ...</td>\n",
       "      <td>[python, c, multithreading, segmentation-fault...</td>\n",
       "    </tr>\n",
       "    <tr>\n",
       "      <th>3</th>\n",
       "      <td>77224498</td>\n",
       "      <td>Convert string to float when the exponent is a...</td>\n",
       "      <td>[python, python-3.x]</td>\n",
       "    </tr>\n",
       "    <tr>\n",
       "      <th>4</th>\n",
       "      <td>77149327</td>\n",
       "      <td>Why does Arima analysis in R and Python get di...</td>\n",
       "      <td>[python, r, arima]</td>\n",
       "    </tr>\n",
       "  </tbody>\n",
       "</table>\n",
       "</div>"
      ],
      "text/plain": [
       "   Question ID                                           Question  \\\n",
       "0     77218713  binance cancel order request sends back &#39;u...   \n",
       "1     77220282  What is the name of the Python library that ma...   \n",
       "2     77224505  Python3: c-type segfault from multithreaded C ...   \n",
       "3     77224498  Convert string to float when the exponent is a...   \n",
       "4     77149327  Why does Arima analysis in R and Python get di...   \n",
       "\n",
       "                                                Tags  \n",
       "0  [python, binance, binance-api-client, python-b...  \n",
       "1                        [python, python-3.x, regex]  \n",
       "2  [python, c, multithreading, segmentation-fault...  \n",
       "3                               [python, python-3.x]  \n",
       "4                                 [python, r, arima]  "
      ]
     },
     "execution_count": 5,
     "metadata": {},
     "output_type": "execute_result"
    }
   ],
   "source": [
    "questions_df.head()"
   ]
  },
  {
   "cell_type": "code",
   "execution_count": 7,
   "metadata": {},
   "outputs": [
    {
     "name": "stdout",
     "output_type": "stream",
     "text": [
      "[python, binance, binance-api-client, python-binance]                1\n",
      "[python, python-3.x, regex]                                          1\n",
      "[python, c, multithreading, segmentation-fault, shared-libraries]    1\n",
      "[python, python-3.x]                                                 1\n",
      "[python, r, arima]                                                   1\n",
      "Name: Tags, dtype: int64\n"
     ]
    },
    {
     "ename": "KeyError",
     "evalue": "'Score'",
     "output_type": "error",
     "traceback": [
      "\u001b[1;31m---------------------------------------------------------------------------\u001b[0m",
      "\u001b[1;31mKeyError\u001b[0m                                  Traceback (most recent call last)",
      "File \u001b[1;32mc:\\Users\\sbendime\\AppData\\Local\\miniconda3\\envs\\API_test\\lib\\site-packages\\pandas\\core\\indexes\\base.py:3621\u001b[0m, in \u001b[0;36mIndex.get_loc\u001b[1;34m(self, key, method, tolerance)\u001b[0m\n\u001b[0;32m   3620\u001b[0m \u001b[39mtry\u001b[39;00m:\n\u001b[1;32m-> 3621\u001b[0m     \u001b[39mreturn\u001b[39;00m \u001b[39mself\u001b[39;49m\u001b[39m.\u001b[39;49m_engine\u001b[39m.\u001b[39;49mget_loc(casted_key)\n\u001b[0;32m   3622\u001b[0m \u001b[39mexcept\u001b[39;00m \u001b[39mKeyError\u001b[39;00m \u001b[39mas\u001b[39;00m err:\n",
      "File \u001b[1;32mc:\\Users\\sbendime\\AppData\\Local\\miniconda3\\envs\\API_test\\lib\\site-packages\\pandas\\_libs\\index.pyx:136\u001b[0m, in \u001b[0;36mpandas._libs.index.IndexEngine.get_loc\u001b[1;34m()\u001b[0m\n",
      "File \u001b[1;32mc:\\Users\\sbendime\\AppData\\Local\\miniconda3\\envs\\API_test\\lib\\site-packages\\pandas\\_libs\\index.pyx:163\u001b[0m, in \u001b[0;36mpandas._libs.index.IndexEngine.get_loc\u001b[1;34m()\u001b[0m\n",
      "File \u001b[1;32mpandas\\_libs\\hashtable_class_helper.pxi:5198\u001b[0m, in \u001b[0;36mpandas._libs.hashtable.PyObjectHashTable.get_item\u001b[1;34m()\u001b[0m\n",
      "File \u001b[1;32mpandas\\_libs\\hashtable_class_helper.pxi:5206\u001b[0m, in \u001b[0;36mpandas._libs.hashtable.PyObjectHashTable.get_item\u001b[1;34m()\u001b[0m\n",
      "\u001b[1;31mKeyError\u001b[0m: 'Score'",
      "\nThe above exception was the direct cause of the following exception:\n",
      "\u001b[1;31mKeyError\u001b[0m                                  Traceback (most recent call last)",
      "\u001b[1;32mc:\\Users\\sbendime\\Projects\\stackoverflow_api\\api_stackoverflow.ipynb Cell 6\u001b[0m line \u001b[0;36m<cell line: 7>\u001b[1;34m()\u001b[0m\n\u001b[0;32m      <a href='vscode-notebook-cell:/c%3A/Users/sbendime/Projects/stackoverflow_api/api_stackoverflow.ipynb#W5sZmlsZQ%3D%3D?line=4'>5</a>\u001b[0m \u001b[39m# Affichez la distribution des scores des questions\u001b[39;00m\n\u001b[0;32m      <a href='vscode-notebook-cell:/c%3A/Users/sbendime/Projects/stackoverflow_api/api_stackoverflow.ipynb#W5sZmlsZQ%3D%3D?line=5'>6</a>\u001b[0m \u001b[39mimport\u001b[39;00m \u001b[39mmatplotlib\u001b[39;00m\u001b[39m.\u001b[39;00m\u001b[39mpyplot\u001b[39;00m \u001b[39mas\u001b[39;00m \u001b[39mplt\u001b[39;00m\n\u001b[1;32m----> <a href='vscode-notebook-cell:/c%3A/Users/sbendime/Projects/stackoverflow_api/api_stackoverflow.ipynb#W5sZmlsZQ%3D%3D?line=6'>7</a>\u001b[0m questions_df[\u001b[39m'\u001b[39;49m\u001b[39mScore\u001b[39;49m\u001b[39m'\u001b[39;49m]\u001b[39m.\u001b[39mhist(bins\u001b[39m=\u001b[39m\u001b[39m20\u001b[39m)\n\u001b[0;32m      <a href='vscode-notebook-cell:/c%3A/Users/sbendime/Projects/stackoverflow_api/api_stackoverflow.ipynb#W5sZmlsZQ%3D%3D?line=7'>8</a>\u001b[0m plt\u001b[39m.\u001b[39mxlabel(\u001b[39m'\u001b[39m\u001b[39mScore\u001b[39m\u001b[39m'\u001b[39m)\n\u001b[0;32m      <a href='vscode-notebook-cell:/c%3A/Users/sbendime/Projects/stackoverflow_api/api_stackoverflow.ipynb#W5sZmlsZQ%3D%3D?line=8'>9</a>\u001b[0m plt\u001b[39m.\u001b[39mylabel(\u001b[39m'\u001b[39m\u001b[39mNombre de questions\u001b[39m\u001b[39m'\u001b[39m)\n",
      "File \u001b[1;32mc:\\Users\\sbendime\\AppData\\Local\\miniconda3\\envs\\API_test\\lib\\site-packages\\pandas\\core\\frame.py:3505\u001b[0m, in \u001b[0;36mDataFrame.__getitem__\u001b[1;34m(self, key)\u001b[0m\n\u001b[0;32m   3503\u001b[0m \u001b[39mif\u001b[39;00m \u001b[39mself\u001b[39m\u001b[39m.\u001b[39mcolumns\u001b[39m.\u001b[39mnlevels \u001b[39m>\u001b[39m \u001b[39m1\u001b[39m:\n\u001b[0;32m   3504\u001b[0m     \u001b[39mreturn\u001b[39;00m \u001b[39mself\u001b[39m\u001b[39m.\u001b[39m_getitem_multilevel(key)\n\u001b[1;32m-> 3505\u001b[0m indexer \u001b[39m=\u001b[39m \u001b[39mself\u001b[39;49m\u001b[39m.\u001b[39;49mcolumns\u001b[39m.\u001b[39;49mget_loc(key)\n\u001b[0;32m   3506\u001b[0m \u001b[39mif\u001b[39;00m is_integer(indexer):\n\u001b[0;32m   3507\u001b[0m     indexer \u001b[39m=\u001b[39m [indexer]\n",
      "File \u001b[1;32mc:\\Users\\sbendime\\AppData\\Local\\miniconda3\\envs\\API_test\\lib\\site-packages\\pandas\\core\\indexes\\base.py:3623\u001b[0m, in \u001b[0;36mIndex.get_loc\u001b[1;34m(self, key, method, tolerance)\u001b[0m\n\u001b[0;32m   3621\u001b[0m     \u001b[39mreturn\u001b[39;00m \u001b[39mself\u001b[39m\u001b[39m.\u001b[39m_engine\u001b[39m.\u001b[39mget_loc(casted_key)\n\u001b[0;32m   3622\u001b[0m \u001b[39mexcept\u001b[39;00m \u001b[39mKeyError\u001b[39;00m \u001b[39mas\u001b[39;00m err:\n\u001b[1;32m-> 3623\u001b[0m     \u001b[39mraise\u001b[39;00m \u001b[39mKeyError\u001b[39;00m(key) \u001b[39mfrom\u001b[39;00m \u001b[39merr\u001b[39;00m\n\u001b[0;32m   3624\u001b[0m \u001b[39mexcept\u001b[39;00m \u001b[39mTypeError\u001b[39;00m:\n\u001b[0;32m   3625\u001b[0m     \u001b[39m# If we have a listlike key, _check_indexing_error will raise\u001b[39;00m\n\u001b[0;32m   3626\u001b[0m     \u001b[39m#  InvalidIndexError. Otherwise we fall through and re-raise\u001b[39;00m\n\u001b[0;32m   3627\u001b[0m     \u001b[39m#  the TypeError.\u001b[39;00m\n\u001b[0;32m   3628\u001b[0m     \u001b[39mself\u001b[39m\u001b[39m.\u001b[39m_check_indexing_error(key)\n",
      "\u001b[1;31mKeyError\u001b[0m: 'Score'"
     ]
    }
   ],
   "source": [
    "# Comptez le nombre de questions par tag\n",
    "tag_counts = questions_df['Tags'].value_counts()\n",
    "print(tag_counts.head())\n"
   ]
  }
 ],
 "metadata": {
  "kernelspec": {
   "display_name": "API_test",
   "language": "python",
   "name": "python3"
  },
  "language_info": {
   "codemirror_mode": {
    "name": "ipython",
    "version": 3
   },
   "file_extension": ".py",
   "mimetype": "text/x-python",
   "name": "python",
   "nbconvert_exporter": "python",
   "pygments_lexer": "ipython3",
   "version": "3.8.0"
  },
  "orig_nbformat": 4
 },
 "nbformat": 4,
 "nbformat_minor": 2
}
